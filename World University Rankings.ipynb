{
 "cells": [
  {
   "cell_type": "markdown",
   "metadata": {},
   "source": [
    "## World University Rankings"
   ]
  },
  {
   "cell_type": "code",
   "execution_count": 1,
   "metadata": {},
   "outputs": [],
   "source": [
    "# %pip install pandas\n",
    "# %pip install openpyxl"
   ]
  },
  {
   "cell_type": "code",
   "execution_count": 2,
   "metadata": {},
   "outputs": [],
   "source": [
    "# import libraries\n",
    "\n",
    "import pandas as pd\n",
    "import zipfile"
   ]
  },
  {
   "cell_type": "code",
   "execution_count": 3,
   "metadata": {},
   "outputs": [
    {
     "name": "stdout",
     "output_type": "stream",
     "text": [
      "Dataset URL: https://www.kaggle.com/datasets/raymondtoo/the-world-university-rankings-2016-2024\n",
      "License(s): MIT\n",
      "the-world-university-rankings-2016-2024.zip: Skipping, found more recently modified local copy (use --force to force download)\n"
     ]
    }
   ],
   "source": [
    "# downloading dataset with kaggle api\n",
    "\n",
    "!kaggle datasets download -d raymondtoo/the-world-university-rankings-2016-2024"
   ]
  },
  {
   "cell_type": "code",
   "execution_count": 4,
   "metadata": {},
   "outputs": [],
   "source": [
    "# reading in and extracting dataset\n",
    "\n",
    "file_name = \"the-world-university-rankings-2016-2024.zip\"\n",
    "with zipfile.ZipFile(file_name, \"r\") as file:\n",
    "    file.extractall()"
   ]
  },
  {
   "cell_type": "code",
   "execution_count": 5,
   "metadata": {},
   "outputs": [],
   "source": [
    "# read in extracted dataset with pandas\n",
    "\n",
    "rankings = pd.read_csv(\"THE World University Rankings 2016-2024.csv\", encoding='latin1')"
   ]
  },
  {
   "cell_type": "code",
   "execution_count": 6,
   "metadata": {},
   "outputs": [
    {
     "data": {
      "text/html": [
       "<div>\n",
       "<style scoped>\n",
       "    .dataframe tbody tr th:only-of-type {\n",
       "        vertical-align: middle;\n",
       "    }\n",
       "\n",
       "    .dataframe tbody tr th {\n",
       "        vertical-align: top;\n",
       "    }\n",
       "\n",
       "    .dataframe thead th {\n",
       "        text-align: right;\n",
       "    }\n",
       "</style>\n",
       "<table border=\"1\" class=\"dataframe\">\n",
       "  <thead>\n",
       "    <tr style=\"text-align: right;\">\n",
       "      <th></th>\n",
       "      <th>Rank</th>\n",
       "      <th>Name</th>\n",
       "      <th>Country</th>\n",
       "      <th>Student Population</th>\n",
       "      <th>Students to Staff Ratio</th>\n",
       "      <th>International Students</th>\n",
       "      <th>Female to Male Ratio</th>\n",
       "      <th>Overall Score</th>\n",
       "      <th>Teaching</th>\n",
       "      <th>Research Environment</th>\n",
       "      <th>Research Quality</th>\n",
       "      <th>Industry Impact</th>\n",
       "      <th>International Outlook</th>\n",
       "      <th>Year</th>\n",
       "    </tr>\n",
       "  </thead>\n",
       "  <tbody>\n",
       "    <tr>\n",
       "      <th>0</th>\n",
       "      <td>1.0</td>\n",
       "      <td>California Institute of Technology</td>\n",
       "      <td>United States</td>\n",
       "      <td>2243</td>\n",
       "      <td>6.9</td>\n",
       "      <td>26%</td>\n",
       "      <td>33 : 67</td>\n",
       "      <td>95.2</td>\n",
       "      <td>95.6</td>\n",
       "      <td>97.6</td>\n",
       "      <td>99.8</td>\n",
       "      <td>97.8</td>\n",
       "      <td>64.0</td>\n",
       "      <td>2016</td>\n",
       "    </tr>\n",
       "    <tr>\n",
       "      <th>1</th>\n",
       "      <td>2.0</td>\n",
       "      <td>University of Oxford</td>\n",
       "      <td>United Kingdom</td>\n",
       "      <td>19920</td>\n",
       "      <td>11.6</td>\n",
       "      <td>34%</td>\n",
       "      <td>46:54:00</td>\n",
       "      <td>94.2</td>\n",
       "      <td>86.5</td>\n",
       "      <td>98.9</td>\n",
       "      <td>98.8</td>\n",
       "      <td>73.1</td>\n",
       "      <td>94.4</td>\n",
       "      <td>2016</td>\n",
       "    </tr>\n",
       "    <tr>\n",
       "      <th>2</th>\n",
       "      <td>3.0</td>\n",
       "      <td>Stanford University</td>\n",
       "      <td>United States</td>\n",
       "      <td>15596</td>\n",
       "      <td>7.8</td>\n",
       "      <td>22%</td>\n",
       "      <td>42:58:00</td>\n",
       "      <td>93.9</td>\n",
       "      <td>92.5</td>\n",
       "      <td>96.2</td>\n",
       "      <td>99.9</td>\n",
       "      <td>63.3</td>\n",
       "      <td>76.3</td>\n",
       "      <td>2016</td>\n",
       "    </tr>\n",
       "    <tr>\n",
       "      <th>3</th>\n",
       "      <td>4.0</td>\n",
       "      <td>University of Cambridge</td>\n",
       "      <td>United Kingdom</td>\n",
       "      <td>18810</td>\n",
       "      <td>11.8</td>\n",
       "      <td>34%</td>\n",
       "      <td>46:54:00</td>\n",
       "      <td>92.8</td>\n",
       "      <td>88.2</td>\n",
       "      <td>96.7</td>\n",
       "      <td>97.0</td>\n",
       "      <td>55.0</td>\n",
       "      <td>91.5</td>\n",
       "      <td>2016</td>\n",
       "    </tr>\n",
       "    <tr>\n",
       "      <th>4</th>\n",
       "      <td>5.0</td>\n",
       "      <td>Massachusetts Institute of Technology</td>\n",
       "      <td>United States</td>\n",
       "      <td>11074</td>\n",
       "      <td>9.0</td>\n",
       "      <td>33%</td>\n",
       "      <td>37 : 63</td>\n",
       "      <td>92.0</td>\n",
       "      <td>89.4</td>\n",
       "      <td>88.6</td>\n",
       "      <td>99.7</td>\n",
       "      <td>95.4</td>\n",
       "      <td>84.0</td>\n",
       "      <td>2016</td>\n",
       "    </tr>\n",
       "  </tbody>\n",
       "</table>\n",
       "</div>"
      ],
      "text/plain": [
       "   Rank                                   Name         Country  \\\n",
       "0   1.0     California Institute of Technology   United States   \n",
       "1   2.0                   University of Oxford  United Kingdom   \n",
       "2   3.0                    Stanford University   United States   \n",
       "3   4.0                University of Cambridge  United Kingdom   \n",
       "4   5.0  Massachusetts Institute of Technology   United States   \n",
       "\n",
       "   Student Population  Students to Staff Ratio International Students  \\\n",
       "0                2243                      6.9                    26%   \n",
       "1               19920                     11.6                    34%   \n",
       "2               15596                      7.8                    22%   \n",
       "3               18810                     11.8                    34%   \n",
       "4               11074                      9.0                    33%   \n",
       "\n",
       "  Female to Male Ratio  Overall Score  Teaching  Research Environment  \\\n",
       "0              33 : 67           95.2      95.6                  97.6   \n",
       "1             46:54:00           94.2      86.5                  98.9   \n",
       "2             42:58:00           93.9      92.5                  96.2   \n",
       "3             46:54:00           92.8      88.2                  96.7   \n",
       "4              37 : 63           92.0      89.4                  88.6   \n",
       "\n",
       "   Research Quality  Industry Impact  International Outlook  Year  \n",
       "0              99.8             97.8                   64.0  2016  \n",
       "1              98.8             73.1                   94.4  2016  \n",
       "2              99.9             63.3                   76.3  2016  \n",
       "3              97.0             55.0                   91.5  2016  \n",
       "4              99.7             95.4                   84.0  2016  "
      ]
     },
     "execution_count": 6,
     "metadata": {},
     "output_type": "execute_result"
    }
   ],
   "source": [
    "# view dataset\n",
    "\n",
    "rankings.head()"
   ]
  },
  {
   "cell_type": "code",
   "execution_count": 7,
   "metadata": {},
   "outputs": [
    {
     "name": "stdout",
     "output_type": "stream",
     "text": [
      "<class 'pandas.core.frame.DataFrame'>\n",
      "RangeIndex: 12430 entries, 0 to 12429\n",
      "Data columns (total 14 columns):\n",
      " #   Column                   Non-Null Count  Dtype  \n",
      "---  ------                   --------------  -----  \n",
      " 0   Rank                     12430 non-null  float64\n",
      " 1   Name                     12430 non-null  object \n",
      " 2   Country                  12430 non-null  object \n",
      " 3   Student Population       12430 non-null  int64  \n",
      " 4   Students to Staff Ratio  12430 non-null  float64\n",
      " 5   International Students   12430 non-null  object \n",
      " 6   Female to Male Ratio     11839 non-null  object \n",
      " 7   Overall Score            12430 non-null  float64\n",
      " 8   Teaching                 12430 non-null  float64\n",
      " 9   Research Environment     12430 non-null  float64\n",
      " 10  Research Quality         12430 non-null  float64\n",
      " 11  Industry Impact          12430 non-null  float64\n",
      " 12  International Outlook    12430 non-null  float64\n",
      " 13  Year                     12430 non-null  int64  \n",
      "dtypes: float64(8), int64(2), object(4)\n",
      "memory usage: 1.3+ MB\n"
     ]
    }
   ],
   "source": [
    "# dataset info\n",
    "\n",
    "rankings.info()"
   ]
  },
  {
   "cell_type": "code",
   "execution_count": 8,
   "metadata": {},
   "outputs": [
    {
     "data": {
      "text/plain": [
       "Rank                         0\n",
       "Name                         0\n",
       "Country                      0\n",
       "Student Population           0\n",
       "Students to Staff Ratio      0\n",
       "International Students       0\n",
       "Female to Male Ratio       591\n",
       "Overall Score                0\n",
       "Teaching                     0\n",
       "Research Environment         0\n",
       "Research Quality             0\n",
       "Industry Impact              0\n",
       "International Outlook        0\n",
       "Year                         0\n",
       "dtype: int64"
      ]
     },
     "execution_count": 8,
     "metadata": {},
     "output_type": "execute_result"
    }
   ],
   "source": [
    "#checking for any missing values\n",
    "\n",
    "rankings.isnull().sum()"
   ]
  },
  {
   "cell_type": "code",
   "execution_count": 9,
   "metadata": {},
   "outputs": [
    {
     "data": {
      "text/plain": [
       "(12430, 14)"
      ]
     },
     "execution_count": 9,
     "metadata": {},
     "output_type": "execute_result"
    }
   ],
   "source": [
    "# checking dataset shape\n",
    "\n",
    "rankings.shape"
   ]
  },
  {
   "cell_type": "code",
   "execution_count": 10,
   "metadata": {},
   "outputs": [
    {
     "data": {
      "text/plain": [
       "array(['United States', 'United Kingdom', 'Switzerland', 'Canada',\n",
       "       'Singapore', 'Sweden', 'Germany', 'Australia', 'Belgium', 'China',\n",
       "       'Japan', 'Hong Kong', 'Netherlands', 'France', 'Finland',\n",
       "       'Denmark', 'South Korea', 'Ireland', 'Italy', 'South Africa',\n",
       "       'Norway', 'Austria', 'Spain', 'Russian Federation', 'Taiwan',\n",
       "       'New Zealand', 'Israel', 'Luxembourg', 'Brazil', 'Iceland',\n",
       "       'Turkey', 'Saudi Arabia', 'India', 'Czech Republic', 'Greece',\n",
       "       'Estonia', 'Cyprus', 'Portugal', 'Uganda', 'Chile', 'Macao',\n",
       "       'Mexico', 'Iran', 'Malaysia', 'Lebanon', 'Poland', 'Hungary',\n",
       "       'Thailand', 'Pakistan', 'Romania', 'Slovenia',\n",
       "       'United Arab Emirates', 'Colombia', 'Qatar', 'Lithuania', 'Oman',\n",
       "       'Ghana', 'Slovakia', 'Latvia', 'Serbia', 'Jordan', 'Egypt',\n",
       "       'Kenya', 'Indonesia', 'Ukraine', 'Bangladesh', 'Belarus',\n",
       "       'Morocco', 'Nigeria', 'Argentina', 'Kuwait', 'Northern Cyprus',\n",
       "       'Croatia', 'Philippines', 'Costa Rica', 'Venezuela', 'Bulgaria',\n",
       "       'Algeria', 'Tunisia', 'Sri Lanka', 'Georgia', 'Peru', 'Jamaica',\n",
       "       'Iraq', 'Kazakhstan', 'Nepal', 'Tanzania', 'Brunei Darussalam',\n",
       "       'Malta', 'Vietnam', 'Puerto Rico', 'Cuba', 'Montenegro',\n",
       "       'Botswana', 'Ethiopia', 'Palestine', 'Ecuador', 'Fiji',\n",
       "       'Azerbaijan', 'Zambia', 'Namibia', 'Mozambique', 'Zimbabwe',\n",
       "       'Mauritius', 'Armenia', 'North Macedonia',\n",
       "       'Bosnia and Herzegovina', 'Kosovo'], dtype=object)"
      ]
     },
     "execution_count": 10,
     "metadata": {},
     "output_type": "execute_result"
    }
   ],
   "source": [
    "rankings[\"Country\"].unique()"
   ]
  },
  {
   "cell_type": "code",
   "execution_count": 11,
   "metadata": {},
   "outputs": [],
   "source": [
    "# Convert Rank column from float to int dtype\n",
    "\n",
    "rankings[\"Rank\"] = rankings[\"Rank\"].astype(int)"
   ]
  },
  {
   "cell_type": "code",
   "execution_count": 12,
   "metadata": {},
   "outputs": [],
   "source": [
    "# export dataset as an excel file for further visualizations in tableau\n",
    "\n",
    "rankings.to_excel('world_university_rankings.xlsx', sheet_name='Data')"
   ]
  },
  {
   "cell_type": "code",
   "execution_count": null,
   "metadata": {},
   "outputs": [],
   "source": []
  }
 ],
 "metadata": {
  "kernelspec": {
   "display_name": "Python 3",
   "language": "python",
   "name": "python3"
  },
  "language_info": {
   "codemirror_mode": {
    "name": "ipython",
    "version": 3
   },
   "file_extension": ".py",
   "mimetype": "text/x-python",
   "name": "python",
   "nbconvert_exporter": "python",
   "pygments_lexer": "ipython3",
   "version": "3.11.4"
  }
 },
 "nbformat": 4,
 "nbformat_minor": 2
}
